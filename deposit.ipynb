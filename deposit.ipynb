{
  "nbformat": 4,
  "nbformat_minor": 0,
  "metadata": {
    "colab": {
      "provenance": [],
      "authorship_tag": "ABX9TyMHoiy8xbAUFLohX4aO7z7O",
      "include_colab_link": true
    },
    "kernelspec": {
      "name": "python3",
      "display_name": "Python 3"
    },
    "language_info": {
      "name": "python"
    }
  },
  "cells": [
    {
      "cell_type": "markdown",
      "metadata": {
        "id": "view-in-github",
        "colab_type": "text"
      },
      "source": [
        "<a href=\"https://colab.research.google.com/github/777Mnzl/Weather-API/blob/main/deposit.ipynb\" target=\"_parent\"><img src=\"https://colab.research.google.com/assets/colab-badge.svg\" alt=\"Open In Colab\"/></a>"
      ]
    },
    {
      "cell_type": "markdown",
      "source": [
        "# Weather program\n",
        "Main points highlighted of the code:\n",
        "* Importing the requests library for making HTTP requests.\n",
        "* Defining the API key (API) and the base URL (BASE_URL) for the OpenWeatherMap\n",
        "  API.\n",
        "* Prompting the user to enter a city name and storing it in the city variable.\n",
        "* Creating the request URL using f-strings, incorporating the API key and the\n",
        " user-inputted city.\n",
        "* Making an HTTP GET request to the OpenWeatherMap API using requests.get().\n",
        "* Checking the HTTP response status code to determine if the request was\n",
        " successful (status code 200).\n",
        "* If the response status code is not 200, indicating an error occurred, printing an error message.\n",
        "\n",
        "Overall, this code is designed to fetch weather data for a user-inputted city from the OpenWeatherMap API and display the weather description and temperature if the request is successful."
      ],
      "metadata": {
        "id": "j1yQ7SGzA-bw"
      }
    },
    {
      "cell_type": "code",
      "source": [
        "import requests\n",
        "\n",
        "API = '3ffd449d5bcce7b0ef06b54c288d65b3'\n",
        "BASE_URL = 'https://api.openweathermap.org/data/2.5/weather'\n",
        "\n",
        "city = input('Enter the city name: ')\n",
        "request_url = f'{BASE_URL}?appid={API}&q={city}'\n",
        "response = requests.get(request_url)\n",
        "\n",
        "if response.status_code == 200:\n",
        "    data = response.json()\n",
        "    weather = data['weather'][0]['description']\n",
        "    print(weather)\n",
        "    temp = round(data['main']['temp'] - 273.15, 2)\n",
        "\n",
        "    print('Weather: ', weather)\n",
        "    print('Temperature: ', temp, 'celcius')\n",
        "\n",
        "\n",
        "else:\n",
        "    print('an error occured')\n"
      ],
      "metadata": {
        "colab": {
          "base_uri": "https://localhost:8080/",
          "height": 0
        },
        "id": "1BJoo511AbiJ",
        "outputId": "f93bd6f8-6c62-4f68-ad79-97427b9a914a"
      },
      "execution_count": 5,
      "outputs": [
        {
          "output_type": "stream",
          "name": "stdout",
          "text": [
            "Enter the city name: Kathmandu\n",
            "broken clouds\n",
            "Weather:  broken clouds\n",
            "Temperature:  22.13 celcius\n"
          ]
        }
      ]
    },
    {
      "cell_type": "code",
      "source": [],
      "metadata": {
        "id": "PMCCvyxICGmG"
      },
      "execution_count": null,
      "outputs": []
    }
  ]
}